{
 "cells": [
  {
   "cell_type": "markdown",
   "id": "2017f9a5",
   "metadata": {},
   "source": [
    "# Python String Methods"
   ]
  },
  {
   "cell_type": "markdown",
   "id": "73181350",
   "metadata": {},
   "source": [
    "## str.capitalize()\n",
    "Capitalizes the first character."
   ]
  },
  {
   "cell_type": "code",
   "execution_count": 3,
   "id": "abf8099a",
   "metadata": {},
   "outputs": [
    {
     "name": "stdout",
     "output_type": "stream",
     "text": [
      "Hello\n"
     ]
    }
   ],
   "source": [
    "text = \"hello\"\n",
    "print(text.capitalize())  # Output: Hello"
   ]
  },
  {
   "cell_type": "markdown",
   "id": "e62aa665",
   "metadata": {},
   "source": [
    "## str.casefold()\n",
    "Converts to lowercase (more aggressive than lower())."
   ]
  },
  {
   "cell_type": "code",
   "execution_count": 5,
   "id": "87221295",
   "metadata": {},
   "outputs": [
    {
     "name": "stdout",
     "output_type": "stream",
     "text": [
      "hello\n"
     ]
    }
   ],
   "source": [
    "text = \"HELLO\"\n",
    "print(text.casefold())  # Output: hello"
   ]
  },
  {
   "cell_type": "markdown",
   "id": "5537d399",
   "metadata": {},
   "source": [
    "## str.center(width[, fillchar])\n",
    "Centers the string within the specified width."
   ]
  },
  {
   "cell_type": "code",
   "execution_count": 4,
   "id": "7fa93c26",
   "metadata": {},
   "outputs": [
    {
     "name": "stdout",
     "output_type": "stream",
     "text": [
      "**python**\n"
     ]
    }
   ],
   "source": [
    "text = \"python\"\n",
    "print(text.center(10, '*'))  # Output: **python**"
   ]
  },
  {
   "cell_type": "markdown",
   "id": "05c17101",
   "metadata": {},
   "source": [
    "## str.count(sub[, start[, end]])\n",
    "Returns the number of non-overlapping occurrences of a substring."
   ]
  },
  {
   "cell_type": "code",
   "execution_count": null,
   "id": "71ac04cd",
   "metadata": {},
   "outputs": [],
   "source": [
    "text = \"banana\"\n",
    "print(text.count(\"a\"))  # Output: 3"
   ]
  },
  {
   "cell_type": "markdown",
   "id": "d082f0f0",
   "metadata": {},
   "source": [
    "## str.encode(encoding=\"utf-8\", errors=\"strict\")\n",
    "Returns encoded version of the string."
   ]
  },
  {
   "cell_type": "code",
   "execution_count": null,
   "id": "da977d11",
   "metadata": {},
   "outputs": [],
   "source": [
    "text = \"hello\"\n",
    "print(text.encode())  # Output: b'hello'"
   ]
  },
  {
   "cell_type": "markdown",
   "id": "89d651ea",
   "metadata": {},
   "source": [
    "## str.endswith(suffix[, start[, end]])\n",
    "Returns True if the string ends with the specified suffix."
   ]
  },
  {
   "cell_type": "code",
   "execution_count": null,
   "id": "7118a18f",
   "metadata": {},
   "outputs": [],
   "source": [
    "text = \"file.py\"\n",
    "print(text.endswith(\".py\"))  # Output: True"
   ]
  },
  {
   "cell_type": "markdown",
   "id": "737c072f",
   "metadata": {},
   "source": [
    "## str.expandtabs(tabsize=8)\n",
    "Replaces tabs with spaces."
   ]
  },
  {
   "cell_type": "code",
   "execution_count": null,
   "id": "fb972de6",
   "metadata": {},
   "outputs": [],
   "source": [
    "text = \"hi\\tthere\"\n",
    "print(text.expandtabs(4))  # Output: hi  there"
   ]
  },
  {
   "cell_type": "markdown",
   "id": "757e6ece",
   "metadata": {},
   "source": [
    "## str.find(sub[, start[, end]])\n",
    "Returns the lowest index of the substring; -1 if not found."
   ]
  },
  {
   "cell_type": "code",
   "execution_count": null,
   "id": "728c44c7",
   "metadata": {},
   "outputs": [],
   "source": [
    "text = \"notebook\"\n",
    "print(text.find(\"book\"))  # Output: 4"
   ]
  },
  {
   "cell_type": "markdown",
   "id": "8a2c3c96",
   "metadata": {},
   "source": [
    "## str.format(*args, **kwargs)\n",
    "Formats string using the specified arguments."
   ]
  },
  {
   "cell_type": "code",
   "execution_count": null,
   "id": "206c10cd",
   "metadata": {},
   "outputs": [],
   "source": [
    "name = \"Ravi\"\n",
    "print(\"My name is {}\".format(name))  # Output: My name is Ravi"
   ]
  },
  {
   "cell_type": "markdown",
   "id": "2f9c0482",
   "metadata": {},
   "source": [
    "## str.format_map(mapping)\n",
    "Formats string using a mapping."
   ]
  },
  {
   "cell_type": "code",
   "execution_count": null,
   "id": "21e45cbf",
   "metadata": {},
   "outputs": [],
   "source": [
    "data = {\"name\": \"Ravi\"}\n",
    "print(\"My name is {name}\".format_map(data))  # Output: My name is Ravi"
   ]
  },
  {
   "cell_type": "markdown",
   "id": "664ef1de",
   "metadata": {},
   "source": [
    "## str.index(sub[, start[, end]])\n",
    "Like find() but raises ValueError if not found."
   ]
  },
  {
   "cell_type": "code",
   "execution_count": null,
   "id": "55dee1c3",
   "metadata": {},
   "outputs": [],
   "source": [
    "text = \"hello\"\n",
    "print(text.index(\"e\"))  # Output: 1"
   ]
  },
  {
   "cell_type": "markdown",
   "id": "2e677775",
   "metadata": {},
   "source": [
    "## str.isalnum()\n",
    "Returns True if all characters are alphanumeric."
   ]
  },
  {
   "cell_type": "code",
   "execution_count": null,
   "id": "ecae7606",
   "metadata": {},
   "outputs": [],
   "source": [
    "text = \"Python3\"\n",
    "print(text.isalnum())  # Output: True"
   ]
  },
  {
   "cell_type": "markdown",
   "id": "d3d19ff0",
   "metadata": {},
   "source": [
    "## str.isalpha()\n",
    "Returns True if all characters are alphabetic."
   ]
  },
  {
   "cell_type": "code",
   "execution_count": null,
   "id": "38508183",
   "metadata": {},
   "outputs": [],
   "source": [
    "text = \"Python\"\n",
    "print(text.isalpha())  # Output: True"
   ]
  },
  {
   "cell_type": "markdown",
   "id": "5f2191c5",
   "metadata": {},
   "source": [
    "## str.isascii()\n",
    "Returns True if all characters are ASCII."
   ]
  },
  {
   "cell_type": "code",
   "execution_count": null,
   "id": "b4589767",
   "metadata": {},
   "outputs": [],
   "source": [
    "text = \"hello123\"\n",
    "print(text.isascii())  # Output: True"
   ]
  },
  {
   "cell_type": "markdown",
   "id": "f70210e0",
   "metadata": {},
   "source": [
    "## str.isdecimal()\n",
    "Returns True if all characters are decimal characters."
   ]
  },
  {
   "cell_type": "code",
   "execution_count": null,
   "id": "4c77a2ff",
   "metadata": {},
   "outputs": [],
   "source": [
    "text = \"123\"\n",
    "print(text.isdecimal())  # Output: True"
   ]
  },
  {
   "cell_type": "markdown",
   "id": "c9ecd1b9",
   "metadata": {},
   "source": [
    "## str.isdigit()\n",
    "Returns True if all characters are digits."
   ]
  },
  {
   "cell_type": "code",
   "execution_count": null,
   "id": "885e1ebe",
   "metadata": {},
   "outputs": [],
   "source": [
    "text = \"1234\"\n",
    "print(text.isdigit())  # Output: True"
   ]
  },
  {
   "cell_type": "markdown",
   "id": "c853315c",
   "metadata": {},
   "source": [
    "## str.isidentifier()\n",
    "Returns True if string is a valid identifier."
   ]
  },
  {
   "cell_type": "code",
   "execution_count": null,
   "id": "0002063f",
   "metadata": {},
   "outputs": [],
   "source": [
    "text = \"my_var\"\n",
    "print(text.isidentifier())  # Output: True"
   ]
  },
  {
   "cell_type": "markdown",
   "id": "fc86abbf",
   "metadata": {},
   "source": [
    "## str.islower()\n",
    "Returns True if all characters are lowercase."
   ]
  },
  {
   "cell_type": "code",
   "execution_count": null,
   "id": "1d27a7b5",
   "metadata": {},
   "outputs": [],
   "source": [
    "text = \"hello\"\n",
    "print(text.islower())  # Output: True"
   ]
  },
  {
   "cell_type": "markdown",
   "id": "8e8e26f3",
   "metadata": {},
   "source": [
    "## str.isnumeric()\n",
    "Returns True if all characters are numeric."
   ]
  },
  {
   "cell_type": "code",
   "execution_count": null,
   "id": "8ccd3dd3",
   "metadata": {},
   "outputs": [],
   "source": [
    "text = \"123\"\n",
    "print(text.isnumeric())  # Output: True"
   ]
  },
  {
   "cell_type": "markdown",
   "id": "a3f6d05d",
   "metadata": {},
   "source": [
    "## str.isprintable()\n",
    "Returns True if all characters are printable."
   ]
  },
  {
   "cell_type": "code",
   "execution_count": null,
   "id": "b07ccee2",
   "metadata": {},
   "outputs": [],
   "source": [
    "text = \"Hello World!\"\n",
    "print(text.isprintable())  # Output: True"
   ]
  },
  {
   "cell_type": "markdown",
   "id": "87d02132",
   "metadata": {},
   "source": [
    "## str.isspace()\n",
    "Returns True if all characters are whitespace."
   ]
  },
  {
   "cell_type": "code",
   "execution_count": null,
   "id": "4f9b8523",
   "metadata": {},
   "outputs": [],
   "source": [
    "text = \"   \"\n",
    "print(text.isspace())  # Output: True"
   ]
  },
  {
   "cell_type": "markdown",
   "id": "7835bcc8",
   "metadata": {},
   "source": [
    "## str.istitle()\n",
    "Returns True if the string is titlecased."
   ]
  },
  {
   "cell_type": "code",
   "execution_count": null,
   "id": "110c3cbc",
   "metadata": {},
   "outputs": [],
   "source": [
    "text = \"Hello World\"\n",
    "print(text.istitle())  # Output: True"
   ]
  },
  {
   "cell_type": "markdown",
   "id": "760ca14c",
   "metadata": {},
   "source": [
    "## str.isupper()\n",
    "Returns True if all characters are uppercase."
   ]
  },
  {
   "cell_type": "code",
   "execution_count": null,
   "id": "dc843862",
   "metadata": {},
   "outputs": [],
   "source": [
    "text = \"HELLO\"\n",
    "print(text.isupper())  # Output: True"
   ]
  },
  {
   "cell_type": "markdown",
   "id": "5665e876",
   "metadata": {},
   "source": [
    "## str.join(iterable)\n",
    "Joins elements of an iterable with the string as a separator."
   ]
  },
  {
   "cell_type": "code",
   "execution_count": null,
   "id": "83be292f",
   "metadata": {},
   "outputs": [],
   "source": [
    "print(\"-\".join([\"a\", \"b\", \"c\"]))  # Output: a-b-c"
   ]
  },
  {
   "cell_type": "markdown",
   "id": "b4a0bc6e",
   "metadata": {},
   "source": [
    "## str.ljust(width[, fillchar])\n",
    "Left-justifies the string."
   ]
  },
  {
   "cell_type": "code",
   "execution_count": null,
   "id": "3f82c376",
   "metadata": {},
   "outputs": [],
   "source": [
    "text = \"Hi\"\n",
    "print(text.ljust(5, \".\"))  # Output: Hi..."
   ]
  },
  {
   "cell_type": "markdown",
   "id": "efb3cb2c",
   "metadata": {},
   "source": [
    "## str.lower()\n",
    "Converts to lowercase."
   ]
  },
  {
   "cell_type": "code",
   "execution_count": null,
   "id": "77d06b29",
   "metadata": {},
   "outputs": [],
   "source": [
    "text = \"HELLO\"\n",
    "print(text.lower())  # Output: hello"
   ]
  },
  {
   "cell_type": "markdown",
   "id": "f38e4f4c",
   "metadata": {},
   "source": [
    "## str.lstrip([chars])\n",
    "Removes leading characters."
   ]
  },
  {
   "cell_type": "code",
   "execution_count": null,
   "id": "ec862d1a",
   "metadata": {},
   "outputs": [],
   "source": [
    "text = \"  hello\"\n",
    "print(text.lstrip())  # Output: hello"
   ]
  },
  {
   "cell_type": "markdown",
   "id": "3ed99388",
   "metadata": {},
   "source": [
    "## str.maketrans(x, y=None, z=None)\n",
    "Returns a translation table."
   ]
  },
  {
   "cell_type": "code",
   "execution_count": null,
   "id": "00e80d50",
   "metadata": {},
   "outputs": [],
   "source": [
    "table = str.maketrans(\"ae\", \"12\")\n",
    "print(\"apple\".translate(table))  # Output: 1ppl2"
   ]
  },
  {
   "cell_type": "markdown",
   "id": "d243f9e1",
   "metadata": {},
   "source": [
    "## str.partition(sep)\n",
    "Splits the string at the first occurrence of sep."
   ]
  },
  {
   "cell_type": "code",
   "execution_count": null,
   "id": "b6b434e0",
   "metadata": {},
   "outputs": [],
   "source": [
    "text = \"python-3.10\"\n",
    "print(text.partition(\"-\"))  # Output: ('python', '-', '3.10')"
   ]
  },
  {
   "cell_type": "markdown",
   "id": "b883fe50",
   "metadata": {},
   "source": [
    "## str.removeprefix(prefix)\n",
    "Removes the specified prefix if present."
   ]
  },
  {
   "cell_type": "code",
   "execution_count": null,
   "id": "ac6664db",
   "metadata": {},
   "outputs": [],
   "source": [
    "text = \"unhappy\"\n",
    "print(text.removeprefix(\"un\"))  # Output: happy"
   ]
  },
  {
   "cell_type": "markdown",
   "id": "ec446194",
   "metadata": {},
   "source": [
    "## str.removesuffix(suffix)\n",
    "Removes the specified suffix if present."
   ]
  },
  {
   "cell_type": "code",
   "execution_count": null,
   "id": "28efc0b5",
   "metadata": {},
   "outputs": [],
   "source": [
    "text = \"testing.py\"\n",
    "print(text.removesuffix(\".py\"))  # Output: testing"
   ]
  },
  {
   "cell_type": "markdown",
   "id": "31c26252",
   "metadata": {},
   "source": [
    "## str.replace(old, new[, count])\n",
    "Returns a copy with all occurrences of a substring replaced."
   ]
  },
  {
   "cell_type": "code",
   "execution_count": null,
   "id": "e451328b",
   "metadata": {},
   "outputs": [],
   "source": [
    "text = \"apple\"\n",
    "print(text.replace(\"p\", \"b\"))  # Output: abble"
   ]
  },
  {
   "cell_type": "markdown",
   "id": "2ca43f9b",
   "metadata": {},
   "source": [
    "## str.rfind(sub[, start[, end]])\n",
    "Returns the highest index of the substring."
   ]
  },
  {
   "cell_type": "code",
   "execution_count": null,
   "id": "f2d0457a",
   "metadata": {},
   "outputs": [],
   "source": [
    "text = \"hellohello\"\n",
    "print(text.rfind(\"lo\"))  # Output: 9"
   ]
  },
  {
   "cell_type": "markdown",
   "id": "564eb47c",
   "metadata": {},
   "source": [
    "## str.rindex(sub[, start[, end]])\n",
    "Like rfind() but raises ValueError if not found."
   ]
  },
  {
   "cell_type": "code",
   "execution_count": null,
   "id": "72fb8488",
   "metadata": {},
   "outputs": [],
   "source": [
    "text = \"hellohello\"\n",
    "print(text.rindex(\"lo\"))  # Output: 9"
   ]
  },
  {
   "cell_type": "markdown",
   "id": "4cd0cb4e",
   "metadata": {},
   "source": [
    "## str.rjust(width[, fillchar])\n",
    "Right-justifies the string."
   ]
  },
  {
   "cell_type": "code",
   "execution_count": null,
   "id": "88494606",
   "metadata": {},
   "outputs": [],
   "source": [
    "text = \"Hi\"\n",
    "print(text.rjust(5, \".\"))  # Output: ...Hi"
   ]
  },
  {
   "cell_type": "markdown",
   "id": "1dea3970",
   "metadata": {},
   "source": [
    "## str.rsplit(sep=None, maxsplit=-1)\n",
    "Splits the string from the right."
   ]
  },
  {
   "cell_type": "code",
   "execution_count": null,
   "id": "544a24fd",
   "metadata": {},
   "outputs": [],
   "source": [
    "text = \"a,b,c\"\n",
    "print(text.rsplit(\",\", 1))  # Output: ['a,b', 'c']"
   ]
  },
  {
   "cell_type": "markdown",
   "id": "d16d9f47",
   "metadata": {},
   "source": [
    "## str.rstrip([chars])\n",
    "Removes trailing characters."
   ]
  },
  {
   "cell_type": "code",
   "execution_count": null,
   "id": "5b32d924",
   "metadata": {},
   "outputs": [],
   "source": [
    "text = \"hello   \"\n",
    "print(text.rstrip())  # Output: hello"
   ]
  },
  {
   "cell_type": "markdown",
   "id": "f52c4fca",
   "metadata": {},
   "source": [
    "## str.split(sep=None, maxsplit=-1)\n",
    "Splits the string."
   ]
  },
  {
   "cell_type": "code",
   "execution_count": null,
   "id": "777cf173",
   "metadata": {},
   "outputs": [],
   "source": [
    "text = \"a b c\"\n",
    "print(text.split())  # Output: ['a', 'b', 'c']"
   ]
  },
  {
   "cell_type": "markdown",
   "id": "84fef04d",
   "metadata": {},
   "source": [
    "## str.splitlines([keepends])\n",
    "Splits at line breaks."
   ]
  },
  {
   "cell_type": "code",
   "execution_count": null,
   "id": "93c221c9",
   "metadata": {},
   "outputs": [],
   "source": [
    "text = \"line1\\nline2\"\n",
    "print(text.splitlines())  # Output: ['line1', 'line2']"
   ]
  },
  {
   "cell_type": "markdown",
   "id": "fc086fd5",
   "metadata": {},
   "source": [
    "## str.startswith(prefix[, start[, end]])\n",
    "Returns True if the string starts with the prefix."
   ]
  },
  {
   "cell_type": "code",
   "execution_count": null,
   "id": "4ef7aff1",
   "metadata": {},
   "outputs": [],
   "source": [
    "text = \"python\"\n",
    "print(text.startswith(\"py\"))  # Output: True"
   ]
  },
  {
   "cell_type": "markdown",
   "id": "0ee8c210",
   "metadata": {},
   "source": [
    "## str.strip([chars])\n",
    "Removes leading and trailing characters."
   ]
  },
  {
   "cell_type": "code",
   "execution_count": null,
   "id": "4f45c7c5",
   "metadata": {},
   "outputs": [],
   "source": [
    "text = \"  hello  \"\n",
    "print(text.strip())  # Output: hello"
   ]
  },
  {
   "cell_type": "markdown",
   "id": "e1ded783",
   "metadata": {},
   "source": [
    "## str.swapcase()\n",
    "Swaps case of all characters."
   ]
  },
  {
   "cell_type": "code",
   "execution_count": null,
   "id": "952b0946",
   "metadata": {},
   "outputs": [],
   "source": [
    "text = \"Hello\"\n",
    "print(text.swapcase())  # Output: hELLO"
   ]
  },
  {
   "cell_type": "markdown",
   "id": "a37b19ca",
   "metadata": {},
   "source": [
    "## str.title()\n",
    "Returns a titlecased version of the string."
   ]
  },
  {
   "cell_type": "code",
   "execution_count": null,
   "id": "62e1ea2b",
   "metadata": {},
   "outputs": [],
   "source": [
    "text = \"hello world\"\n",
    "print(text.title())  # Output: Hello World"
   ]
  },
  {
   "cell_type": "markdown",
   "id": "bbe35d64",
   "metadata": {},
   "source": [
    "## str.translate(table)\n",
    "Returns a translated string."
   ]
  },
  {
   "cell_type": "code",
   "execution_count": null,
   "id": "b1c6c389",
   "metadata": {},
   "outputs": [],
   "source": [
    "table = str.maketrans(\"aeiou\", \"12345\")\n",
    "print(\"hello\".translate(table))  # Output: h2ll4"
   ]
  },
  {
   "cell_type": "markdown",
   "id": "37703f06",
   "metadata": {},
   "source": [
    "## str.upper()\n",
    "Converts all characters to uppercase."
   ]
  },
  {
   "cell_type": "code",
   "execution_count": null,
   "id": "fd35c912",
   "metadata": {},
   "outputs": [],
   "source": [
    "text = \"hello\"\n",
    "print(text.upper())  # Output: HELLO"
   ]
  },
  {
   "cell_type": "markdown",
   "id": "bd5c1db1",
   "metadata": {},
   "source": [
    "## str.zfill(width)\n",
    "Pads the string on the left with zeros."
   ]
  },
  {
   "cell_type": "code",
   "execution_count": null,
   "id": "12ba1522",
   "metadata": {},
   "outputs": [],
   "source": [
    "text = \"42\"\n",
    "print(text.zfill(5))  # Output: 00042"
   ]
  }
 ],
 "metadata": {
  "kernelspec": {
   "display_name": "Python [conda env:base] *",
   "language": "python",
   "name": "conda-base-py"
  },
  "language_info": {
   "codemirror_mode": {
    "name": "ipython",
    "version": 3
   },
   "file_extension": ".py",
   "mimetype": "text/x-python",
   "name": "python",
   "nbconvert_exporter": "python",
   "pygments_lexer": "ipython3",
   "version": "3.13.5"
  }
 },
 "nbformat": 4,
 "nbformat_minor": 5
}
